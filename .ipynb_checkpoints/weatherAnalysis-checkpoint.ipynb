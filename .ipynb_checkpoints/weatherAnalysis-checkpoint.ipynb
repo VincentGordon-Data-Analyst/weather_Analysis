{
 "cells": [
  {
   "cell_type": "code",
   "execution_count": 1,
   "metadata": {},
   "outputs": [],
   "source": [
    "import pandas as pd\n",
    "import matplotlib.pyplot as plt\n",
    "import seaborn as sns"
   ]
  },
  {
   "cell_type": "markdown",
   "metadata": {},
   "source": [
    "# Cities DataFrame"
   ]
  },
  {
   "cell_type": "code",
   "execution_count": 2,
   "metadata": {},
   "outputs": [
    {
     "data": {
      "text/html": [
       "<div>\n",
       "<style scoped>\n",
       "    .dataframe tbody tr th:only-of-type {\n",
       "        vertical-align: middle;\n",
       "    }\n",
       "\n",
       "    .dataframe tbody tr th {\n",
       "        vertical-align: top;\n",
       "    }\n",
       "\n",
       "    .dataframe thead th {\n",
       "        text-align: right;\n",
       "    }\n",
       "</style>\n",
       "<table border=\"1\" class=\"dataframe\">\n",
       "  <thead>\n",
       "    <tr style=\"text-align: right;\">\n",
       "      <th></th>\n",
       "      <th>station_id</th>\n",
       "      <th>city_name</th>\n",
       "      <th>country</th>\n",
       "      <th>state</th>\n",
       "      <th>iso2</th>\n",
       "      <th>iso3</th>\n",
       "      <th>latitude</th>\n",
       "      <th>longitude</th>\n",
       "    </tr>\n",
       "  </thead>\n",
       "  <tbody>\n",
       "    <tr>\n",
       "      <th>0</th>\n",
       "      <td>41515</td>\n",
       "      <td>Asadabad</td>\n",
       "      <td>Afghanistan</td>\n",
       "      <td>Kunar</td>\n",
       "      <td>AF</td>\n",
       "      <td>AFG</td>\n",
       "      <td>34.866000</td>\n",
       "      <td>71.150005</td>\n",
       "    </tr>\n",
       "    <tr>\n",
       "      <th>1</th>\n",
       "      <td>38954</td>\n",
       "      <td>Fayzabad</td>\n",
       "      <td>Afghanistan</td>\n",
       "      <td>Badakhshan</td>\n",
       "      <td>AF</td>\n",
       "      <td>AFG</td>\n",
       "      <td>37.129761</td>\n",
       "      <td>70.579247</td>\n",
       "    </tr>\n",
       "    <tr>\n",
       "      <th>2</th>\n",
       "      <td>41560</td>\n",
       "      <td>Jalalabad</td>\n",
       "      <td>Afghanistan</td>\n",
       "      <td>Nangarhar</td>\n",
       "      <td>AF</td>\n",
       "      <td>AFG</td>\n",
       "      <td>34.441527</td>\n",
       "      <td>70.436103</td>\n",
       "    </tr>\n",
       "    <tr>\n",
       "      <th>3</th>\n",
       "      <td>38947</td>\n",
       "      <td>Kunduz</td>\n",
       "      <td>Afghanistan</td>\n",
       "      <td>Kunduz</td>\n",
       "      <td>AF</td>\n",
       "      <td>AFG</td>\n",
       "      <td>36.727951</td>\n",
       "      <td>68.872530</td>\n",
       "    </tr>\n",
       "    <tr>\n",
       "      <th>4</th>\n",
       "      <td>38987</td>\n",
       "      <td>Qala i Naw</td>\n",
       "      <td>Afghanistan</td>\n",
       "      <td>Badghis</td>\n",
       "      <td>AF</td>\n",
       "      <td>AFG</td>\n",
       "      <td>34.983000</td>\n",
       "      <td>63.133300</td>\n",
       "    </tr>\n",
       "  </tbody>\n",
       "</table>\n",
       "</div>"
      ],
      "text/plain": [
       "  station_id   city_name      country       state iso2 iso3   latitude  \\\n",
       "0      41515    Asadabad  Afghanistan       Kunar   AF  AFG  34.866000   \n",
       "1      38954    Fayzabad  Afghanistan  Badakhshan   AF  AFG  37.129761   \n",
       "2      41560   Jalalabad  Afghanistan   Nangarhar   AF  AFG  34.441527   \n",
       "3      38947      Kunduz  Afghanistan      Kunduz   AF  AFG  36.727951   \n",
       "4      38987  Qala i Naw  Afghanistan     Badghis   AF  AFG  34.983000   \n",
       "\n",
       "   longitude  \n",
       "0  71.150005  \n",
       "1  70.579247  \n",
       "2  70.436103  \n",
       "3  68.872530  \n",
       "4  63.133300  "
      ]
     },
     "execution_count": 2,
     "metadata": {},
     "output_type": "execute_result"
    }
   ],
   "source": [
    "cities_df = pd.read_csv('./weatherData/cities.csv')\n",
    "cities_df.head()"
   ]
  },
  {
   "cell_type": "code",
   "execution_count": 3,
   "metadata": {},
   "outputs": [
    {
     "name": "stdout",
     "output_type": "stream",
     "text": [
      "<class 'pandas.core.frame.DataFrame'>\n",
      "RangeIndex: 1245 entries, 0 to 1244\n",
      "Data columns (total 8 columns):\n",
      " #   Column      Non-Null Count  Dtype  \n",
      "---  ------      --------------  -----  \n",
      " 0   station_id  1245 non-null   object \n",
      " 1   city_name   1244 non-null   object \n",
      " 2   country     1245 non-null   object \n",
      " 3   state       1217 non-null   object \n",
      " 4   iso2        1239 non-null   object \n",
      " 5   iso3        1245 non-null   object \n",
      " 6   latitude    1245 non-null   float64\n",
      " 7   longitude   1245 non-null   float64\n",
      "dtypes: float64(2), object(6)\n",
      "memory usage: 77.9+ KB\n"
     ]
    }
   ],
   "source": [
    "cities_df.info()"
   ]
  },
  {
   "cell_type": "markdown",
   "metadata": {},
   "source": [
    "## Basic Statistics"
   ]
  },
  {
   "cell_type": "code",
   "execution_count": 4,
   "metadata": {},
   "outputs": [
    {
     "name": "stdout",
     "output_type": "stream",
     "text": [
      "Average latitude is 23.73, and the average longitude is 20.78\n"
     ]
    }
   ],
   "source": [
    "# What is the average latitude and longitude of the cities in the dataset?\n",
    "avg_lat = cities_df['latitude'].mean()\n",
    "avg_lat = round(avg_lat, 2)\n",
    "\n",
    "avg_lon = cities_df['longitude'].mean()\n",
    "avg_lon = round(avg_lon, 2)\n",
    "\n",
    "print(f\"Average latitude is {avg_lat}, and the average longitude is {avg_lon}\")"
   ]
  },
  {
   "cell_type": "code",
   "execution_count": 5,
   "metadata": {},
   "outputs": [
    {
     "name": "stdout",
     "output_type": "stream",
     "text": [
      "There are 216 countries and 1149 states in the dataset\n"
     ]
    }
   ],
   "source": [
    "# How many unique countries and states are represented in the dataset?\n",
    "country_count = cities_df['country'].nunique()\n",
    "state_count = cities_df['state'].nunique()\n",
    "\n",
    "print(f\"There are {country_count} countries and {state_count} states in the dataset\")"
   ]
  },
  {
   "cell_type": "markdown",
   "metadata": {},
   "source": [
    "## Country Analysis"
   ]
  },
  {
   "cell_type": "code",
   "execution_count": 6,
   "metadata": {},
   "outputs": [
    {
     "data": {
      "text/plain": [
       "country\n",
       "Russia                      77\n",
       "United States of America    49\n",
       "Turkey                      44\n",
       "Thailand                    38\n",
       "India                       29\n",
       "                            ..\n",
       "Latvia                       1\n",
       "Lebanon                      1\n",
       "Cuba                         1\n",
       "Oman                         1\n",
       "Hong Kong                    1\n",
       "Name: city_name, Length: 216, dtype: int64"
      ]
     },
     "execution_count": 6,
     "metadata": {},
     "output_type": "execute_result"
    }
   ],
   "source": [
    "# How many cities are there in each country?\n",
    "cities_df.groupby('country')['city_name'].count().sort_values(ascending=False)"
   ]
  },
  {
   "cell_type": "code",
   "execution_count": 7,
   "metadata": {},
   "outputs": [
    {
     "name": "stdout",
     "output_type": "stream",
     "text": [
      "The country with the most weather stations is Russia with 77 stations.\n"
     ]
    }
   ],
   "source": [
    "# Group by country and count the number of weather stations\n",
    "station_count_by_country = cities_df.groupby('country')['station_id'].count()\n",
    "\n",
    "# Find the country with the most weather stations\n",
    "country_with_most_stations = station_count_by_country.idxmax()\n",
    "max_stations = station_count_by_country.max()\n",
    "\n",
    "print(f\"The country with the most weather stations is {country_with_most_stations} with {max_stations} stations.\")\n"
   ]
  },
  {
   "cell_type": "markdown",
   "metadata": {},
   "source": [
    "# Countries DataFrame"
   ]
  },
  {
   "cell_type": "markdown",
   "metadata": {},
   "source": [
    "## Population Analysis"
   ]
  },
  {
   "cell_type": "code",
   "execution_count": 8,
   "metadata": {},
   "outputs": [
    {
     "data": {
      "text/html": [
       "<div>\n",
       "<style scoped>\n",
       "    .dataframe tbody tr th:only-of-type {\n",
       "        vertical-align: middle;\n",
       "    }\n",
       "\n",
       "    .dataframe tbody tr th {\n",
       "        vertical-align: top;\n",
       "    }\n",
       "\n",
       "    .dataframe thead th {\n",
       "        text-align: right;\n",
       "    }\n",
       "</style>\n",
       "<table border=\"1\" class=\"dataframe\">\n",
       "  <thead>\n",
       "    <tr style=\"text-align: right;\">\n",
       "      <th></th>\n",
       "      <th>country</th>\n",
       "      <th>native_name</th>\n",
       "      <th>iso2</th>\n",
       "      <th>iso3</th>\n",
       "      <th>population</th>\n",
       "      <th>area</th>\n",
       "      <th>capital</th>\n",
       "      <th>capital_lat</th>\n",
       "      <th>capital_lng</th>\n",
       "      <th>region</th>\n",
       "      <th>continent</th>\n",
       "    </tr>\n",
       "  </thead>\n",
       "  <tbody>\n",
       "    <tr>\n",
       "      <th>0</th>\n",
       "      <td>Afghanistan</td>\n",
       "      <td>افغانستان</td>\n",
       "      <td>AF</td>\n",
       "      <td>AFG</td>\n",
       "      <td>26023100.0</td>\n",
       "      <td>652230.0</td>\n",
       "      <td>Kabul</td>\n",
       "      <td>34.526011</td>\n",
       "      <td>69.177684</td>\n",
       "      <td>Southern and Central Asia</td>\n",
       "      <td>Asia</td>\n",
       "    </tr>\n",
       "    <tr>\n",
       "      <th>1</th>\n",
       "      <td>Albania</td>\n",
       "      <td>Shqipëria</td>\n",
       "      <td>AL</td>\n",
       "      <td>ALB</td>\n",
       "      <td>2895947.0</td>\n",
       "      <td>28748.0</td>\n",
       "      <td>Tirana</td>\n",
       "      <td>41.326873</td>\n",
       "      <td>19.818791</td>\n",
       "      <td>Southern Europe</td>\n",
       "      <td>Europe</td>\n",
       "    </tr>\n",
       "    <tr>\n",
       "      <th>2</th>\n",
       "      <td>Algeria</td>\n",
       "      <td>الجزائر</td>\n",
       "      <td>DZ</td>\n",
       "      <td>DZA</td>\n",
       "      <td>38700000.0</td>\n",
       "      <td>2381741.0</td>\n",
       "      <td>Algiers</td>\n",
       "      <td>36.775361</td>\n",
       "      <td>3.060188</td>\n",
       "      <td>Northern Africa</td>\n",
       "      <td>Africa</td>\n",
       "    </tr>\n",
       "    <tr>\n",
       "      <th>3</th>\n",
       "      <td>American Samoa</td>\n",
       "      <td>American Samoa</td>\n",
       "      <td>AS</td>\n",
       "      <td>ASM</td>\n",
       "      <td>55519.0</td>\n",
       "      <td>199.0</td>\n",
       "      <td>Pago Pago</td>\n",
       "      <td>-14.275479</td>\n",
       "      <td>-170.704830</td>\n",
       "      <td>Polynesia</td>\n",
       "      <td>Oceania</td>\n",
       "    </tr>\n",
       "    <tr>\n",
       "      <th>4</th>\n",
       "      <td>Angola</td>\n",
       "      <td>Angola</td>\n",
       "      <td>AO</td>\n",
       "      <td>AGO</td>\n",
       "      <td>24383301.0</td>\n",
       "      <td>1246700.0</td>\n",
       "      <td>Luanda</td>\n",
       "      <td>-8.827270</td>\n",
       "      <td>13.243951</td>\n",
       "      <td>Central Africa</td>\n",
       "      <td>Africa</td>\n",
       "    </tr>\n",
       "  </tbody>\n",
       "</table>\n",
       "</div>"
      ],
      "text/plain": [
       "          country     native_name iso2 iso3  population       area    capital  \\\n",
       "0     Afghanistan       افغانستان   AF  AFG  26023100.0   652230.0      Kabul   \n",
       "1         Albania       Shqipëria   AL  ALB   2895947.0    28748.0     Tirana   \n",
       "2         Algeria         الجزائر   DZ  DZA  38700000.0  2381741.0    Algiers   \n",
       "3  American Samoa  American Samoa   AS  ASM     55519.0      199.0  Pago Pago   \n",
       "4          Angola          Angola   AO  AGO  24383301.0  1246700.0     Luanda   \n",
       "\n",
       "   capital_lat  capital_lng                     region continent  \n",
       "0    34.526011    69.177684  Southern and Central Asia      Asia  \n",
       "1    41.326873    19.818791            Southern Europe    Europe  \n",
       "2    36.775361     3.060188            Northern Africa    Africa  \n",
       "3   -14.275479  -170.704830                  Polynesia   Oceania  \n",
       "4    -8.827270    13.243951             Central Africa    Africa  "
      ]
     },
     "execution_count": 8,
     "metadata": {},
     "output_type": "execute_result"
    }
   ],
   "source": [
    "population_df = pd.read_csv('./weatherData/countries.csv')\n",
    "population_df.head()"
   ]
  },
  {
   "cell_type": "code",
   "execution_count": 9,
   "metadata": {},
   "outputs": [
    {
     "name": "stdout",
     "output_type": "stream",
     "text": [
      "<class 'pandas.core.frame.DataFrame'>\n",
      "RangeIndex: 214 entries, 0 to 213\n",
      "Data columns (total 11 columns):\n",
      " #   Column       Non-Null Count  Dtype  \n",
      "---  ------       --------------  -----  \n",
      " 0   country      214 non-null    object \n",
      " 1   native_name  213 non-null    object \n",
      " 2   iso2         213 non-null    object \n",
      " 3   iso3         214 non-null    object \n",
      " 4   population   210 non-null    float64\n",
      " 5   area         207 non-null    float64\n",
      " 6   capital      212 non-null    object \n",
      " 7   capital_lat  212 non-null    float64\n",
      " 8   capital_lng  212 non-null    float64\n",
      " 9   region       205 non-null    object \n",
      " 10  continent    206 non-null    object \n",
      "dtypes: float64(4), object(7)\n",
      "memory usage: 18.5+ KB\n"
     ]
    }
   ],
   "source": [
    "population_df.info()"
   ]
  },
  {
   "cell_type": "code",
   "execution_count": 10,
   "metadata": {},
   "outputs": [
    {
     "data": {
      "text/plain": [
       "country        0\n",
       "native_name    1\n",
       "iso2           1\n",
       "iso3           0\n",
       "population     4\n",
       "area           7\n",
       "capital        2\n",
       "capital_lat    2\n",
       "capital_lng    2\n",
       "region         9\n",
       "continent      8\n",
       "dtype: int64"
      ]
     },
     "execution_count": 10,
     "metadata": {},
     "output_type": "execute_result"
    }
   ],
   "source": [
    "# Find rows with missing values\n",
    "population_df.isnull().sum()"
   ]
  },
  {
   "cell_type": "code",
   "execution_count": 11,
   "metadata": {},
   "outputs": [
    {
     "data": {
      "text/plain": [
       "country        0\n",
       "native_name    0\n",
       "iso2           0\n",
       "iso3           0\n",
       "population     0\n",
       "area           0\n",
       "capital        0\n",
       "capital_lat    0\n",
       "capital_lng    0\n",
       "region         0\n",
       "continent      0\n",
       "dtype: int64"
      ]
     },
     "execution_count": 11,
     "metadata": {},
     "output_type": "execute_result"
    }
   ],
   "source": [
    "# Drop rows with missing values\n",
    "population_df = population_df.dropna()\n",
    "population_df.isnull().sum()"
   ]
  },
  {
   "cell_type": "code",
   "execution_count": 12,
   "metadata": {},
   "outputs": [
    {
     "name": "stdout",
     "output_type": "stream",
     "text": [
      "China has the highest population of 1367110000.0 and the French Southern and Antarctic Lands has the lowest population of 140.0\n"
     ]
    }
   ],
   "source": [
    "# Which countries have the highest and lowest populations?\n",
    "population_count_by_country = population_df.groupby('country')['population'].sum().sort_values(ascending=False)\n",
    "\n",
    "# Find the country with the highest population\n",
    "country_with_highest_population = population_count_by_country.idxmax()\n",
    "max_population_count = population_count_by_country.max()\n",
    "\n",
    "# Find the country with the lowest population\n",
    "country_with_lowest_population = population_count_by_country.idxmin()\n",
    "lowest_population_count = population_count_by_country.min()\n",
    "\n",
    "print(f\"{country_with_highest_population} has the highest population of {max_population_count} and the {country_with_lowest_population} has the lowest population of {lowest_population_count}\" ) "
   ]
  },
  {
   "cell_type": "code",
   "execution_count": 13,
   "metadata": {},
   "outputs": [
    {
     "name": "stdout",
     "output_type": "stream",
     "text": [
      "Average Population by Region:\n",
      "region\n",
      "Antarctica                   1.400000e+02\n",
      "Australia and New Zealand    1.517425e+06\n",
      "Baltic Countries             2.078310e+06\n",
      "British Isles                3.524183e+07\n",
      "Caribbean                    2.720357e+06\n",
      "Central Africa               9.838065e+06\n",
      "Central America              2.312048e+07\n",
      "Eastern Africa               2.050143e+07\n",
      "Eastern Asia                 2.633106e+08\n",
      "Eastern Europe               2.937403e+07\n",
      "Melanesia                    2.275918e+06\n",
      "Micronesia                   9.394700e+04\n",
      "Middle East                  1.468841e+07\n",
      "Nordic Countries             5.269666e+06\n",
      "North America                7.098521e+07\n",
      "Northern Africa              3.070632e+07\n",
      "Polynesia                    9.184017e+04\n",
      "South America                3.157992e+07\n",
      "Southeast Asia               5.336937e+07\n",
      "Southern Africa              1.480777e+07\n",
      "Southern Europe              1.332821e+07\n",
      "Southern and Central Asia    1.392465e+08\n",
      "Western Africa               2.101353e+07\n",
      "Western Europe               2.136692e+07\n",
      "Name: population, dtype: float64\n",
      "\n",
      "Average Population by Continent:\n",
      "continent\n",
      "Africa           1.996418e+07\n",
      "Antarctica       1.400000e+02\n",
      "Asia             8.993263e+07\n",
      "Europe           1.798585e+07\n",
      "North America    2.189018e+07\n",
      "Oceania          8.578104e+05\n",
      "South America    3.157992e+07\n",
      "Name: population, dtype: float64\n"
     ]
    }
   ],
   "source": [
    "# Calculate the average population for each region and continent.\n",
    "avg_population_by_region = population_df.groupby('region')['population'].mean()\n",
    "avg_population_by_continent = population_df.groupby('continent')['population'].mean()\n",
    "\n",
    "# Display the results\n",
    "print(\"Average Population by Region:\")\n",
    "print(avg_population_by_region)\n",
    "\n",
    "print(\"\\nAverage Population by Continent:\")\n",
    "print(avg_population_by_continent)"
   ]
  },
  {
   "cell_type": "markdown",
   "metadata": {},
   "source": [
    "## Geographic and Demographic Insights"
   ]
  },
  {
   "cell_type": "code",
   "execution_count": 14,
   "metadata": {},
   "outputs": [
    {
     "name": "stdout",
     "output_type": "stream",
     "text": [
      "Monaco has the highest population density of 18292.08\n"
     ]
    }
   ],
   "source": [
    "# Find the country with the highest population density (population per square kilometer)\n",
    "# Create a population_density column in the data frame\n",
    "population_df['population_density'] = population_df['population'] / population_df['area']\n",
    "\n",
    "# Get the country and corresponding maximum population density values\n",
    "population_density = population_df.groupby('country')['population_density'].sum()\n",
    "country_with_highest_population_density = population_density.idxmax()\n",
    "highest_population_density = round(population_density.max(), 2)\n",
    "\n",
    "print(f\"{country_with_highest_population_density} has the highest population density of {highest_population_density}\")\n"
   ]
  },
  {
   "cell_type": "code",
   "execution_count": 15,
   "metadata": {},
   "outputs": [
    {
     "name": "stdout",
     "output_type": "stream",
     "text": [
      "Eastern Africa has the most number of countries at 17 while Antarctica only has 1.\n"
     ]
    }
   ],
   "source": [
    "# Determine the region with the most and least number of countries\n",
    "country_count_by_region = population_df.groupby('region')['country'].count()\n",
    "\n",
    "# Find \n",
    "region_with_least_num_of_countries = country_count_by_region.idxmin()\n",
    "least_num_of_countries_count = country_count_by_region.min()\n",
    "\n",
    "region_with_most_num_of_countries = country_count_by_region.idxmax()\n",
    "most_num_of_countries_count = country_count_by_region.max()\n",
    "\n",
    "print(f\"{region_with_most_num_of_countries} has the most number of countries at {most_num_of_countries_count} while {region_with_least_num_of_countries} only has {least_num_of_countries_count}.\")"
   ]
  },
  {
   "cell_type": "markdown",
   "metadata": {},
   "source": [
    "# Daily Weather DataFrame"
   ]
  },
  {
   "cell_type": "markdown",
   "metadata": {},
   "source": [
    "## Weather Trends"
   ]
  },
  {
   "cell_type": "code",
   "execution_count": 16,
   "metadata": {},
   "outputs": [
    {
     "data": {
      "text/html": [
       "<div>\n",
       "<style scoped>\n",
       "    .dataframe tbody tr th:only-of-type {\n",
       "        vertical-align: middle;\n",
       "    }\n",
       "\n",
       "    .dataframe tbody tr th {\n",
       "        vertical-align: top;\n",
       "    }\n",
       "\n",
       "    .dataframe thead th {\n",
       "        text-align: right;\n",
       "    }\n",
       "</style>\n",
       "<table border=\"1\" class=\"dataframe\">\n",
       "  <thead>\n",
       "    <tr style=\"text-align: right;\">\n",
       "      <th></th>\n",
       "      <th>station_id</th>\n",
       "      <th>city_name</th>\n",
       "      <th>date</th>\n",
       "      <th>season</th>\n",
       "      <th>avg_temp_c</th>\n",
       "      <th>min_temp_c</th>\n",
       "      <th>max_temp_c</th>\n",
       "      <th>precipitation_mm</th>\n",
       "      <th>snow_depth_mm</th>\n",
       "      <th>avg_wind_dir_deg</th>\n",
       "      <th>avg_wind_speed_kmh</th>\n",
       "      <th>peak_wind_gust_kmh</th>\n",
       "      <th>avg_sea_level_pres_hpa</th>\n",
       "      <th>sunshine_total_min</th>\n",
       "    </tr>\n",
       "  </thead>\n",
       "  <tbody>\n",
       "    <tr>\n",
       "      <th>0</th>\n",
       "      <td>41515</td>\n",
       "      <td>Asadabad</td>\n",
       "      <td>1957-07-01</td>\n",
       "      <td>Summer</td>\n",
       "      <td>27.0</td>\n",
       "      <td>21.1</td>\n",
       "      <td>35.6</td>\n",
       "      <td>0.0</td>\n",
       "      <td>NaN</td>\n",
       "      <td>NaN</td>\n",
       "      <td>NaN</td>\n",
       "      <td>NaN</td>\n",
       "      <td>NaN</td>\n",
       "      <td>NaN</td>\n",
       "    </tr>\n",
       "    <tr>\n",
       "      <th>1</th>\n",
       "      <td>41515</td>\n",
       "      <td>Asadabad</td>\n",
       "      <td>1957-07-02</td>\n",
       "      <td>Summer</td>\n",
       "      <td>22.8</td>\n",
       "      <td>18.9</td>\n",
       "      <td>32.2</td>\n",
       "      <td>0.0</td>\n",
       "      <td>NaN</td>\n",
       "      <td>NaN</td>\n",
       "      <td>NaN</td>\n",
       "      <td>NaN</td>\n",
       "      <td>NaN</td>\n",
       "      <td>NaN</td>\n",
       "    </tr>\n",
       "    <tr>\n",
       "      <th>2</th>\n",
       "      <td>41515</td>\n",
       "      <td>Asadabad</td>\n",
       "      <td>1957-07-03</td>\n",
       "      <td>Summer</td>\n",
       "      <td>24.3</td>\n",
       "      <td>16.7</td>\n",
       "      <td>35.6</td>\n",
       "      <td>1.0</td>\n",
       "      <td>NaN</td>\n",
       "      <td>NaN</td>\n",
       "      <td>NaN</td>\n",
       "      <td>NaN</td>\n",
       "      <td>NaN</td>\n",
       "      <td>NaN</td>\n",
       "    </tr>\n",
       "    <tr>\n",
       "      <th>3</th>\n",
       "      <td>41515</td>\n",
       "      <td>Asadabad</td>\n",
       "      <td>1957-07-04</td>\n",
       "      <td>Summer</td>\n",
       "      <td>26.6</td>\n",
       "      <td>16.1</td>\n",
       "      <td>37.8</td>\n",
       "      <td>4.1</td>\n",
       "      <td>NaN</td>\n",
       "      <td>NaN</td>\n",
       "      <td>NaN</td>\n",
       "      <td>NaN</td>\n",
       "      <td>NaN</td>\n",
       "      <td>NaN</td>\n",
       "    </tr>\n",
       "    <tr>\n",
       "      <th>4</th>\n",
       "      <td>41515</td>\n",
       "      <td>Asadabad</td>\n",
       "      <td>1957-07-05</td>\n",
       "      <td>Summer</td>\n",
       "      <td>30.8</td>\n",
       "      <td>20.0</td>\n",
       "      <td>41.7</td>\n",
       "      <td>0.0</td>\n",
       "      <td>NaN</td>\n",
       "      <td>NaN</td>\n",
       "      <td>NaN</td>\n",
       "      <td>NaN</td>\n",
       "      <td>NaN</td>\n",
       "      <td>NaN</td>\n",
       "    </tr>\n",
       "  </tbody>\n",
       "</table>\n",
       "</div>"
      ],
      "text/plain": [
       "  station_id city_name       date  season  avg_temp_c  min_temp_c  max_temp_c  \\\n",
       "0      41515  Asadabad 1957-07-01  Summer        27.0        21.1        35.6   \n",
       "1      41515  Asadabad 1957-07-02  Summer        22.8        18.9        32.2   \n",
       "2      41515  Asadabad 1957-07-03  Summer        24.3        16.7        35.6   \n",
       "3      41515  Asadabad 1957-07-04  Summer        26.6        16.1        37.8   \n",
       "4      41515  Asadabad 1957-07-05  Summer        30.8        20.0        41.7   \n",
       "\n",
       "   precipitation_mm  snow_depth_mm  avg_wind_dir_deg  avg_wind_speed_kmh  \\\n",
       "0               0.0            NaN               NaN                 NaN   \n",
       "1               0.0            NaN               NaN                 NaN   \n",
       "2               1.0            NaN               NaN                 NaN   \n",
       "3               4.1            NaN               NaN                 NaN   \n",
       "4               0.0            NaN               NaN                 NaN   \n",
       "\n",
       "   peak_wind_gust_kmh  avg_sea_level_pres_hpa  sunshine_total_min  \n",
       "0                 NaN                     NaN                 NaN  \n",
       "1                 NaN                     NaN                 NaN  \n",
       "2                 NaN                     NaN                 NaN  \n",
       "3                 NaN                     NaN                 NaN  \n",
       "4                 NaN                     NaN                 NaN  "
      ]
     },
     "execution_count": 16,
     "metadata": {},
     "output_type": "execute_result"
    }
   ],
   "source": [
    "weather_df = pd.read_parquet('./weatherData/daily_weather.parquet')\n",
    "weather_df.head()"
   ]
  },
  {
   "cell_type": "code",
   "execution_count": 17,
   "metadata": {},
   "outputs": [
    {
     "name": "stdout",
     "output_type": "stream",
     "text": [
      "<class 'pandas.core.frame.DataFrame'>\n",
      "Int64Index: 27635763 entries, 0 to 24220\n",
      "Data columns (total 14 columns):\n",
      " #   Column                  Dtype         \n",
      "---  ------                  -----         \n",
      " 0   station_id              category      \n",
      " 1   city_name               category      \n",
      " 2   date                    datetime64[ns]\n",
      " 3   season                  category      \n",
      " 4   avg_temp_c              float64       \n",
      " 5   min_temp_c              float64       \n",
      " 6   max_temp_c              float64       \n",
      " 7   precipitation_mm        float64       \n",
      " 8   snow_depth_mm           float64       \n",
      " 9   avg_wind_dir_deg        float64       \n",
      " 10  avg_wind_speed_kmh      float64       \n",
      " 11  peak_wind_gust_kmh      float64       \n",
      " 12  avg_sea_level_pres_hpa  float64       \n",
      " 13  sunshine_total_min      float64       \n",
      "dtypes: category(3), datetime64[ns](1), float64(10)\n",
      "memory usage: 2.6 GB\n"
     ]
    }
   ],
   "source": [
    "weather_df.info()"
   ]
  },
  {
   "cell_type": "code",
   "execution_count": 18,
   "metadata": {},
   "outputs": [
    {
     "data": {
      "text/plain": [
       "station_id                       0\n",
       "city_name                    13993\n",
       "date                             0\n",
       "season                           0\n",
       "avg_temp_c                 6230907\n",
       "min_temp_c                 5718229\n",
       "max_temp_c                 5539346\n",
       "precipitation_mm           6642500\n",
       "snow_depth_mm             24208615\n",
       "avg_wind_dir_deg          24183195\n",
       "avg_wind_speed_kmh        22350295\n",
       "peak_wind_gust_kmh        26514277\n",
       "avg_sea_level_pres_hpa    23618606\n",
       "sunshine_total_min        26614302\n",
       "dtype: int64"
      ]
     },
     "execution_count": 18,
     "metadata": {},
     "output_type": "execute_result"
    }
   ],
   "source": [
    "weather_df.isnull().sum()"
   ]
  },
  {
   "cell_type": "code",
   "execution_count": 19,
   "metadata": {},
   "outputs": [],
   "source": [
    "# What is the average temperature, precipitation, and wind speed for a specific city?"
   ]
  },
  {
   "cell_type": "code",
   "execution_count": 20,
   "metadata": {},
   "outputs": [],
   "source": [
    "# Identify the hottest and coldest days based on max_temp_c and min_temp_c"
   ]
  },
  {
   "cell_type": "code",
   "execution_count": null,
   "metadata": {},
   "outputs": [],
   "source": []
  },
  {
   "cell_type": "code",
   "execution_count": null,
   "metadata": {},
   "outputs": [],
   "source": []
  },
  {
   "cell_type": "code",
   "execution_count": null,
   "metadata": {},
   "outputs": [],
   "source": []
  },
  {
   "cell_type": "code",
   "execution_count": null,
   "metadata": {},
   "outputs": [],
   "source": []
  },
  {
   "cell_type": "code",
   "execution_count": null,
   "metadata": {},
   "outputs": [],
   "source": []
  },
  {
   "cell_type": "code",
   "execution_count": null,
   "metadata": {},
   "outputs": [],
   "source": []
  }
 ],
 "metadata": {
  "kernelspec": {
   "display_name": "Python 3 (ipykernel)",
   "language": "python",
   "name": "python3"
  },
  "language_info": {
   "codemirror_mode": {
    "name": "ipython",
    "version": 3
   },
   "file_extension": ".py",
   "mimetype": "text/x-python",
   "name": "python",
   "nbconvert_exporter": "python",
   "pygments_lexer": "ipython3",
   "version": "3.9.12"
  }
 },
 "nbformat": 4,
 "nbformat_minor": 2
}
